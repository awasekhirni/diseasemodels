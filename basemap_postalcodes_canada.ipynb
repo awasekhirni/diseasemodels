{
  "nbformat": 4,
  "nbformat_minor": 0,
  "metadata": {
    "colab": {
      "name": "Copy of Untitled0.ipynb",
      "provenance": [],
      "collapsed_sections": [],
      "authorship_tag": "ABX9TyPnm9TyQGnXWVzGAM4zswJl",
      "include_colab_link": true
    },
    "kernelspec": {
      "name": "python3",
      "display_name": "Python 3"
    }
  },
  "cells": [
    {
      "cell_type": "markdown",
      "metadata": {
        "id": "view-in-github",
        "colab_type": "text"
      },
      "source": [
        "<a href=\"https://colab.research.google.com/github/awasekhirni/diseasemodels/blob/main/basemap_postalcodes_canada.ipynb\" target=\"_parent\"><img src=\"https://colab.research.google.com/assets/colab-badge.svg\" alt=\"Open In Colab\"/></a>"
      ]
    },
    {
      "cell_type": "code",
      "metadata": {
        "id": "fXEgUYTIn-Bx",
        "colab": {
          "base_uri": "https://localhost:8080/",
          "height": 833
        },
        "outputId": "42b60ee5-bdd3-468c-db30-160bb678a1d8"
      },
      "source": [
        "#Copyright 2020 Awase Khirni Syed awase.syed@uwaterloo.com \r\n",
        "#awase008@gmail.com\r\n",
        "#MULTISCALE DYNAMIC HUMAN MOBILITY FLOW PATTERNS FOR SPATIO TEMPORAL EPIDEMIOLOGY MODELING\r\n",
        "\r\n",
        "import numpy as np \r\n",
        "import pandas as pd \r\n",
        "import matplotlib.pyplot as plt \r\n",
        "!pip install geopandas\r\n",
        "import geopandas as gpd\r\n",
        "#!pip install osmnx\r\n",
        "#import osmnx as ox\r\n",
        "!pip install descartes \r\n",
        "from descartes import PolygonPatch\r\n",
        "!pip install shapely\r\n",
        "from shapely.geometry import Point, LineString, Polygon,MultiPolygon \r\n",
        "\r\n",
        "#retrieve tile maps from the internet \r\n",
        "import contextily as ctx \r\n",
        "#import library pickle # it is similar to json \r\n",
        "import pickle \r\n",
        "\r\n",
        "\r\n",
        "#loading the shapefiles using geopandas \r\n",
        "postal_canada = gpd.read_file(\"https://drive.google.com/file/d/1EuFGsL8PXTma2mCNLT7eenOnwTB8Ntgs/view?usp=sharing\")\r\n",
        "\r\n",
        "#printing the head of the file \r\n",
        "postal_canada.head()\r\n",
        "#quick plot snapshot \r\n",
        "postal_canada.plot() \r\n",
        "#fetching the coordinate system information \r\n",
        "#gps => wgs64 is 4326 datum wgs84 \r\n",
        "postal_canada.crs \r\n",
        "# locading the canada postal zone from open streetmap using osnmx api \r\n",
        "# fetching polygon by default open streetmap gives centroid point of the location \r\n",
        "osnmx_canada=ox.gdf_from_place('Canada',which_result=2)\r\n",
        "print(osnmx_canada)\r\n",
        "osnmx_canada=ox.project_gdf(osnmx_canada)\r\n",
        "#plotting the data \r\n",
        "fig, ax_canada =ox.plot_shape(osnmx_canada)\r\n",
        "#utm wgs84\r\n",
        "print(osnmx_canada.crs)\r\n",
        "\r\n",
        "#saving this for future use \r\n",
        "osnmx_canada.to_file('stagingarea/zipcode_canada.shp')\r\n",
        "geometry=osnmx_canada['geometry'].iloc[0]\r\n",
        "#identify the geometry info \r\n",
        "print(type(geometry))\r\n",
        "#slice the geometry by 1000 meters resolution \r\n",
        "geometry_cut=ox.quadrat_cut_geometry(geometry,quadrat_width=1000)\r\n",
        "print(geometry_cut)\r\n",
        "#using list comprehension to generate a list of polygons \r\n",
        "can_polylist=[p for p in geometry_cut]\r\n",
        "#drawing the canada postal polygons \r\n",
        "west,south,east,north = osnmx_canada.unary_union.bounds\r\n",
        "fig,ax=plt.subplots(figsize=(50,50))\r\n",
        "#enabling polygons \r\n",
        "for polygon, n in zip(geometry_cut, np.arange(len(can_polylist))):\r\n",
        "  #representative point \r\n",
        "  print(polygon.representative_point().coords[:])\r\n",
        "  p=polygon.representative_point().coords[:][0]\r\n",
        "  #adding annotation layer using descartes \r\n",
        "  patch=PolygonPatch(polygon,fc=\"#ffffff\",ec=\"#000000\",alpha=0.5,zorder=2)\r\n",
        "  ax.add_patch(patch)\r\n",
        "  #annotate the labels to the centroid of the polygon \r\n",
        "  plt.annotate(s=n,xy=p, horizontalalignment='center',size=15)\r\n",
        "\r\n",
        "#alignment settings \r\n",
        "ax.set_xlim(west,east)\r\n",
        "ax.set_ylim(south,north)\r\n",
        "ax.axis('off')\r\n",
        "plt.show()"
      ],
      "execution_count": 6,
      "outputs": [
        {
          "output_type": "stream",
          "text": [
            "Requirement already satisfied: geopandas in /usr/local/lib/python3.6/dist-packages (0.8.1)\n",
            "Requirement already satisfied: pandas>=0.23.0 in /usr/local/lib/python3.6/dist-packages (from geopandas) (1.1.5)\n",
            "Requirement already satisfied: shapely in /usr/local/lib/python3.6/dist-packages (from geopandas) (1.7.1)\n",
            "Requirement already satisfied: pyproj>=2.2.0 in /usr/local/lib/python3.6/dist-packages (from geopandas) (3.0.0.post1)\n",
            "Requirement already satisfied: fiona in /usr/local/lib/python3.6/dist-packages (from geopandas) (1.8.18)\n",
            "Requirement already satisfied: python-dateutil>=2.7.3 in /usr/local/lib/python3.6/dist-packages (from pandas>=0.23.0->geopandas) (2.8.1)\n",
            "Requirement already satisfied: numpy>=1.15.4 in /usr/local/lib/python3.6/dist-packages (from pandas>=0.23.0->geopandas) (1.19.4)\n",
            "Requirement already satisfied: pytz>=2017.2 in /usr/local/lib/python3.6/dist-packages (from pandas>=0.23.0->geopandas) (2018.9)\n",
            "Requirement already satisfied: certifi in /usr/local/lib/python3.6/dist-packages (from pyproj>=2.2.0->geopandas) (2020.12.5)\n",
            "Requirement already satisfied: attrs>=17 in /usr/local/lib/python3.6/dist-packages (from fiona->geopandas) (20.3.0)\n",
            "Requirement already satisfied: six>=1.7 in /usr/local/lib/python3.6/dist-packages (from fiona->geopandas) (1.15.0)\n",
            "Requirement already satisfied: cligj>=0.5 in /usr/local/lib/python3.6/dist-packages (from fiona->geopandas) (0.7.1)\n",
            "Requirement already satisfied: click<8,>=4.0 in /usr/local/lib/python3.6/dist-packages (from fiona->geopandas) (7.1.2)\n",
            "Requirement already satisfied: munch in /usr/local/lib/python3.6/dist-packages (from fiona->geopandas) (2.5.0)\n",
            "Requirement already satisfied: click-plugins>=1.0 in /usr/local/lib/python3.6/dist-packages (from fiona->geopandas) (1.1.1)\n",
            "Requirement already satisfied: descartes in /usr/local/lib/python3.6/dist-packages (1.1.0)\n",
            "Requirement already satisfied: matplotlib in /usr/local/lib/python3.6/dist-packages (from descartes) (3.2.2)\n",
            "Requirement already satisfied: numpy>=1.11 in /usr/local/lib/python3.6/dist-packages (from matplotlib->descartes) (1.19.4)\n",
            "Requirement already satisfied: kiwisolver>=1.0.1 in /usr/local/lib/python3.6/dist-packages (from matplotlib->descartes) (1.3.1)\n",
            "Requirement already satisfied: pyparsing!=2.0.4,!=2.1.2,!=2.1.6,>=2.0.1 in /usr/local/lib/python3.6/dist-packages (from matplotlib->descartes) (2.4.7)\n",
            "Requirement already satisfied: cycler>=0.10 in /usr/local/lib/python3.6/dist-packages (from matplotlib->descartes) (0.10.0)\n",
            "Requirement already satisfied: python-dateutil>=2.1 in /usr/local/lib/python3.6/dist-packages (from matplotlib->descartes) (2.8.1)\n",
            "Requirement already satisfied: six in /usr/local/lib/python3.6/dist-packages (from cycler>=0.10->matplotlib->descartes) (1.15.0)\n",
            "Requirement already satisfied: shapely in /usr/local/lib/python3.6/dist-packages (1.7.1)\n"
          ],
          "name": "stdout"
        },
        {
          "output_type": "error",
          "ename": "ModuleNotFoundError",
          "evalue": "ignored",
          "traceback": [
            "\u001b[0;31m---------------------------------------------------------------------------\u001b[0m",
            "\u001b[0;31mModuleNotFoundError\u001b[0m                       Traceback (most recent call last)",
            "\u001b[0;32m<ipython-input-6-43573e43f9b4>\u001b[0m in \u001b[0;36m<module>\u001b[0;34m()\u001b[0m\n\u001b[1;32m     16\u001b[0m \u001b[0;34m\u001b[0m\u001b[0m\n\u001b[1;32m     17\u001b[0m \u001b[0;31m#retrieve tile maps from the internet\u001b[0m\u001b[0;34m\u001b[0m\u001b[0;34m\u001b[0m\u001b[0;34m\u001b[0m\u001b[0m\n\u001b[0;32m---> 18\u001b[0;31m \u001b[0;32mimport\u001b[0m \u001b[0mcontextily\u001b[0m \u001b[0;32mas\u001b[0m \u001b[0mctx\u001b[0m\u001b[0;34m\u001b[0m\u001b[0;34m\u001b[0m\u001b[0m\n\u001b[0m\u001b[1;32m     19\u001b[0m \u001b[0;31m#import library pickle # it is similar to json\u001b[0m\u001b[0;34m\u001b[0m\u001b[0;34m\u001b[0m\u001b[0;34m\u001b[0m\u001b[0m\n\u001b[1;32m     20\u001b[0m \u001b[0;32mimport\u001b[0m \u001b[0mpickle\u001b[0m\u001b[0;34m\u001b[0m\u001b[0;34m\u001b[0m\u001b[0m\n",
            "\u001b[0;31mModuleNotFoundError\u001b[0m: No module named 'contextily'",
            "",
            "\u001b[0;31m---------------------------------------------------------------------------\u001b[0;32m\nNOTE: If your import is failing due to a missing package, you can\nmanually install dependencies using either !pip or !apt.\n\nTo view examples of installing some common dependencies, click the\n\"Open Examples\" button below.\n\u001b[0;31m---------------------------------------------------------------------------\u001b[0m\n"
          ]
        }
      ]
    }
  ]
}