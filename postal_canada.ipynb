{
  "nbformat": 4,
  "nbformat_minor": 0,
  "metadata": {
    "colab": {
      "name": "Untitled0.ipynb",
      "provenance": [],
      "collapsed_sections": [],
      "authorship_tag": "ABX9TyMi0lalP/Oywy4PuJ+7gp6M",
      "include_colab_link": true
    },
    "kernelspec": {
      "name": "python3",
      "display_name": "Python 3"
    }
  },
  "cells": [
    {
      "cell_type": "markdown",
      "metadata": {
        "id": "view-in-github",
        "colab_type": "text"
      },
      "source": [
        "<a href=\"https://colab.research.google.com/github/awasekhirni/diseasemodels/blob/main/postal_canada.ipynb\" target=\"_parent\"><img src=\"https://colab.research.google.com/assets/colab-badge.svg\" alt=\"Open In Colab\"/></a>"
      ]
    },
    {
      "cell_type": "code",
      "metadata": {
        "id": "fXEgUYTIn-Bx"
      },
      "source": [
        "#Copyright 2020 Awase Khirni Syed awase.syed@uwaterloo.com \r\n",
        "#awase008@gmail.com\r\n",
        "#MULTISCALE DYNAMIC HUMAN MOBILITY FLOW PATTERNS FOR SPATIO TEMPORAL EPIDEMIOLOGY MODELING\r\n",
        "\r\n",
        "import numpy as np \r\n",
        "import pandas as pd \r\n",
        "import matplotlib.pyplot as plt \r\n",
        "import geopandas as gpd \r\n",
        "import osmnx as ox \r\n",
        "from descartes import PolygonPatch\r\n",
        "from shapely.geometry import Point, LineString, Polygon,MultiPolygon \r\n",
        "\r\n",
        "#retrieve tile maps from the internet \r\n",
        "import contextily as ctx \r\n",
        "#import library pickle # it is similar to json \r\n",
        "import pickle \r\n",
        "\r\n",
        "\r\n",
        "#loading the shapefiles using geopandas \r\n",
        "postal_canada = gpd.read_file(\"https://drive.google.com/file/d/19Fy_ztDJ5pCKv2Nw_LjqU-MeLU7yT25Z/view?usp=sharing\")\r\n",
        "\r\n",
        "#printing the head of the file \r\n",
        "postal_canada.head()\r\n",
        "#quick plot snapshot \r\n",
        "postal_canada.plot() \r\n",
        "#fetching the coordinate system information \r\n",
        "#gps => wgs64 is 4326 datum wgs84 \r\n",
        "postal_canada.crs \r\n",
        "# locading the canada postal zone from open streetmap using osnmx api \r\n",
        "# fetching polygon by default open streetmap gives centroid point of the location \r\n",
        "osnmx_canada=ox.gdf_from_place('Canada',which_result=2)\r\n",
        "print(osnmx_canada)\r\n",
        "osnmx_canada=ox.project_gdf(osnmx_canada)\r\n",
        "#plotting the data \r\n",
        "fig, ax_canada =ox.plot_shape(osnmx_canada)\r\n",
        "#utm wgs84\r\n",
        "print(osnmx_canada.crs)"
      ],
      "execution_count": null,
      "outputs": []
    }
  ]
}